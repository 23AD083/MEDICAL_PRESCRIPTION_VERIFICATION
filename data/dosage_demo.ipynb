{
 "cells": [
  {
   "cell_type": "markdown",
   "id": "90f94be2",
   "metadata": {},
   "source": [
    "# DOSAGE Dataset – Filtering Demo"
   ]
  },
  {
   "cell_type": "code",
   "execution_count": 1,
   "id": "59c72513",
   "metadata": {},
   "outputs": [],
   "source": [
    "import pandas as pd\n",
    "import numpy as np"
   ]
  },
  {
   "cell_type": "code",
   "execution_count": 2,
   "id": "11e4f124",
   "metadata": {},
   "outputs": [],
   "source": [
    "# Load CSVs (replace with correct file paths if needed)\n",
    "d_dose = pd.read_csv('d_dose.csv')\n",
    "s_dose = pd.read_csv('s_dose.csv')\n",
    "r_dose = pd.read_csv('r_dose.csv')"
   ]
  },
  {
   "cell_type": "markdown",
   "id": "527c015a",
   "metadata": {},
   "source": [
    "Filter Function: d_dose.csv (Disease-Specific Dosage)"
   ]
  },
  {
   "cell_type": "code",
   "execution_count": 3,
   "id": "b362b7dd",
   "metadata": {},
   "outputs": [],
   "source": [
    "def filter_d_dose(generic=None, disease=None, age=None, route=None, age_unit='y'):\n",
    "    df = d_dose.copy()\n",
    "\n",
    "    if generic:\n",
    "        df = df[df['generic'].str.lower() == generic.lower()]\n",
    "    if disease:\n",
    "        df = df[df['disease'].str.lower() == disease.lower()]\n",
    "    if route:\n",
    "        df = df[df['route'].str.upper() == route.upper()]\n",
    "\n",
    "    if age is not None:\n",
    "        age_y = age if age_unit == 'y' else age / 12 if age_unit == 'm' else age / 365\n",
    "        age_m = age if age_unit == 'm' else age * 12 if age_unit == 'y' else age / 30.44\n",
    "        age_d = age if age_unit == 'd' else age * 365 if age_unit == 'y' else age * 30.44\n",
    "\n",
    "        def age_match(row):\n",
    "            for min_col, max_col, val in [\n",
    "                ('min_age_y', 'max_age_y', age_y),\n",
    "                ('min_age_m', 'max_age_m', age_m),\n",
    "                ('min_age_d', 'max_age_d', age_d)\n",
    "            ]:\n",
    "                if pd.notna(row[min_col]) and pd.notna(row[max_col]):\n",
    "                    if float(row[min_col]) <= val <= float(row[max_col]):\n",
    "                        return True\n",
    "            return False\n",
    "\n",
    "        df = df[df.apply(age_match, axis=1)]\n",
    "\n",
    "    return df.reset_index(drop=True)\n"
   ]
  },
  {
   "cell_type": "code",
   "execution_count": 4,
   "id": "1b1615dd",
   "metadata": {},
   "outputs": [
    {
     "data": {
      "text/html": [
       "<div>\n",
       "<style scoped>\n",
       "    .dataframe tbody tr th:only-of-type {\n",
       "        vertical-align: middle;\n",
       "    }\n",
       "\n",
       "    .dataframe tbody tr th {\n",
       "        vertical-align: top;\n",
       "    }\n",
       "\n",
       "    .dataframe thead th {\n",
       "        text-align: right;\n",
       "    }\n",
       "</style>\n",
       "<table border=\"1\" class=\"dataframe\">\n",
       "  <thead>\n",
       "    <tr style=\"text-align: right;\">\n",
       "      <th></th>\n",
       "      <th>generic</th>\n",
       "      <th>disease</th>\n",
       "      <th>min_age_d</th>\n",
       "      <th>max_age_d</th>\n",
       "      <th>min_age_m</th>\n",
       "      <th>max_age_m</th>\n",
       "      <th>min_age_y</th>\n",
       "      <th>max_age_y</th>\n",
       "      <th>min_weight</th>\n",
       "      <th>max_weight</th>\n",
       "      <th>...</th>\n",
       "      <th>min_dose_dw_iu</th>\n",
       "      <th>max_dose_dw_iu</th>\n",
       "      <th>limit_mg</th>\n",
       "      <th>limit_iu</th>\n",
       "      <th>min_dose_dd_mg</th>\n",
       "      <th>max_dose_dd_mg</th>\n",
       "      <th>min_dose_dd_UNIT</th>\n",
       "      <th>max_dose_dd_iu</th>\n",
       "      <th>route</th>\n",
       "      <th>Unnamed: 21</th>\n",
       "    </tr>\n",
       "  </thead>\n",
       "  <tbody>\n",
       "    <tr>\n",
       "      <th>0</th>\n",
       "      <td>Ampicillin</td>\n",
       "      <td>Gastroenteritis</td>\n",
       "      <td>NaN</td>\n",
       "      <td>NaN</td>\n",
       "      <td>NaN</td>\n",
       "      <td>NaN</td>\n",
       "      <td>12.0</td>\n",
       "      <td>120.0</td>\n",
       "      <td>NaN</td>\n",
       "      <td>NaN</td>\n",
       "      <td>...</td>\n",
       "      <td>NaN</td>\n",
       "      <td>NaN</td>\n",
       "      <td>NaN</td>\n",
       "      <td>NaN</td>\n",
       "      <td>2000.0</td>\n",
       "      <td>2500.0</td>\n",
       "      <td>NaN</td>\n",
       "      <td>NaN</td>\n",
       "      <td>PO</td>\n",
       "      <td>NaN</td>\n",
       "    </tr>\n",
       "  </tbody>\n",
       "</table>\n",
       "<p>1 rows × 22 columns</p>\n",
       "</div>"
      ],
      "text/plain": [
       "      generic          disease  min_age_d  max_age_d  min_age_m  max_age_m  \\\n",
       "0  Ampicillin  Gastroenteritis        NaN        NaN        NaN        NaN   \n",
       "\n",
       "   min_age_y  max_age_y  min_weight  max_weight  ...  min_dose_dw_iu  \\\n",
       "0       12.0      120.0         NaN         NaN  ...             NaN   \n",
       "\n",
       "   max_dose_dw_iu  limit_mg  limit_iu  min_dose_dd_mg  max_dose_dd_mg  \\\n",
       "0             NaN       NaN       NaN          2000.0          2500.0   \n",
       "\n",
       "   min_dose_dd_UNIT  max_dose_dd_iu  route  Unnamed: 21  \n",
       "0               NaN             NaN     PO          NaN  \n",
       "\n",
       "[1 rows x 22 columns]"
      ]
     },
     "execution_count": 4,
     "metadata": {},
     "output_type": "execute_result"
    }
   ],
   "source": [
    "# ▶ Example usage:\n",
    "filter_d_dose(generic='Ampicillin', disease='Gastroenteritis', age=12, route='PO')"
   ]
  },
  {
   "cell_type": "markdown",
   "id": "7c506cc2",
   "metadata": {},
   "source": [
    "Filter Function: s_dose.csv (Standard Dosage)"
   ]
  },
  {
   "cell_type": "code",
   "execution_count": 5,
   "id": "777bbc7b",
   "metadata": {},
   "outputs": [],
   "source": [
    "def filter_s_dose(generic=None, age=None, route=None, age_unit='y'):\n",
    "    df = s_dose.copy()\n",
    "\n",
    "    if generic:\n",
    "        df = df[df['generic'].str.lower() == generic.lower()]\n",
    "    if route:\n",
    "        df = df[df['route'].str.upper() == route.upper()]\n",
    "\n",
    "    if age is not None:\n",
    "        age_y = age if age_unit == 'y' else age / 12 if age_unit == 'm' else age / 365\n",
    "        age_m = age if age_unit == 'm' else age * 12 if age_unit == 'y' else age / 30.44\n",
    "        age_d = age if age_unit == 'd' else age * 365 if age_unit == 'y' else age * 30.44\n",
    "\n",
    "        def age_match(row):\n",
    "            for min_col, max_col, val in [\n",
    "                ('min_age_y', 'max_age_y', age_y),\n",
    "                ('min_age_m', 'max_age_m', age_m),\n",
    "                ('min_age_d', 'max_age_d', age_d)\n",
    "            ]:\n",
    "                if pd.notna(row[min_col]) and pd.notna(row[max_col]):\n",
    "                    if float(row[min_col]) <= val <= float(row[max_col]):\n",
    "                        return True\n",
    "            return False\n",
    "\n",
    "        df = df[df.apply(age_match, axis=1)]\n",
    "\n",
    "    return df.reset_index(drop=True)\n"
   ]
  },
  {
   "cell_type": "code",
   "execution_count": 7,
   "id": "27eb2612",
   "metadata": {},
   "outputs": [
    {
     "data": {
      "text/html": [
       "<div>\n",
       "<style scoped>\n",
       "    .dataframe tbody tr th:only-of-type {\n",
       "        vertical-align: middle;\n",
       "    }\n",
       "\n",
       "    .dataframe tbody tr th {\n",
       "        vertical-align: top;\n",
       "    }\n",
       "\n",
       "    .dataframe thead th {\n",
       "        text-align: right;\n",
       "    }\n",
       "</style>\n",
       "<table border=\"1\" class=\"dataframe\">\n",
       "  <thead>\n",
       "    <tr style=\"text-align: right;\">\n",
       "      <th></th>\n",
       "    </tr>\n",
       "  </thead>\n",
       "  <tbody>\n",
       "  </tbody>\n",
       "</table>\n",
       "</div>"
      ],
      "text/plain": [
       "Empty DataFrame\n",
       "Columns: []\n",
       "Index: []"
      ]
     },
     "execution_count": 7,
     "metadata": {},
     "output_type": "execute_result"
    }
   ],
   "source": [
    "# ▶ Example usage:\n",
    "filter_s_dose(generic='Cipro', age=25, route='PO')"
   ]
  },
  {
   "cell_type": "markdown",
   "id": "43f61992",
   "metadata": {},
   "source": [
    " Filter Function: r_dose.csv (Renal Adjustment Dosage)"
   ]
  },
  {
   "cell_type": "code",
   "execution_count": 8,
   "id": "5f0b7bff",
   "metadata": {},
   "outputs": [],
   "source": [
    "def filter_r_dose(generic=None, disease=None, crcl=None, route=None, weight=None):\n",
    "    df = r_dose.copy()\n",
    "\n",
    "    if generic:\n",
    "        df = df[df['generic'].str.lower() == generic.lower()]\n",
    "    if disease:\n",
    "        df = df[df['disease'].str.lower() == disease.lower()]\n",
    "    if route:\n",
    "        df = df[df['route'].str.upper() == route.upper()]\n",
    "    if crcl is not None:\n",
    "        df = df[\n",
    "            (df['min_crcl'].astype(float) <= crcl) &\n",
    "            (df['max_crcl'].astype(float) >= crcl)\n",
    "        ]\n",
    "    if weight is not None:\n",
    "        df = df[\n",
    "            ((df['min_weight'].isna()) | (df['min_weight'].astype(float) <= weight)) &\n",
    "            ((df['max_weight'].isna()) | (df['max_weight'].astype(float) >= weight))\n",
    "        ]\n",
    "\n",
    "    return df.reset_index(drop=True)"
   ]
  },
  {
   "cell_type": "code",
   "execution_count": 11,
   "id": "897725f9",
   "metadata": {},
   "outputs": [
    {
     "data": {
      "text/html": [
       "<div>\n",
       "<style scoped>\n",
       "    .dataframe tbody tr th:only-of-type {\n",
       "        vertical-align: middle;\n",
       "    }\n",
       "\n",
       "    .dataframe tbody tr th {\n",
       "        vertical-align: top;\n",
       "    }\n",
       "\n",
       "    .dataframe thead th {\n",
       "        text-align: right;\n",
       "    }\n",
       "</style>\n",
       "<table border=\"1\" class=\"dataframe\">\n",
       "  <thead>\n",
       "    <tr style=\"text-align: right;\">\n",
       "      <th></th>\n",
       "      <th>generic</th>\n",
       "      <th>disease</th>\n",
       "      <th>min_weight</th>\n",
       "      <th>max_weight</th>\n",
       "      <th>min_crcl</th>\n",
       "      <th>max_crcl</th>\n",
       "      <th>max_dose_dd_mg</th>\n",
       "      <th>max_dose_dw_mg</th>\n",
       "      <th>max_dose_dd_iu</th>\n",
       "      <th>max_dose_dw_iu</th>\n",
       "      <th>route</th>\n",
       "      <th>flag</th>\n",
       "    </tr>\n",
       "  </thead>\n",
       "  <tbody>\n",
       "    <tr>\n",
       "      <th>0</th>\n",
       "      <td>Ciprofloxacin</td>\n",
       "      <td>NaN</td>\n",
       "      <td>NaN</td>\n",
       "      <td>NaN</td>\n",
       "      <td>5.0</td>\n",
       "      <td>29.0</td>\n",
       "      <td>400.0</td>\n",
       "      <td>NaN</td>\n",
       "      <td>NaN</td>\n",
       "      <td>NaN</td>\n",
       "      <td>IV</td>\n",
       "      <td>NaN</td>\n",
       "    </tr>\n",
       "  </tbody>\n",
       "</table>\n",
       "</div>"
      ],
      "text/plain": [
       "         generic disease  min_weight  max_weight  min_crcl  max_crcl  \\\n",
       "0  Ciprofloxacin     NaN         NaN         NaN       5.0      29.0   \n",
       "\n",
       "   max_dose_dd_mg  max_dose_dw_mg  max_dose_dd_iu  max_dose_dw_iu route flag  \n",
       "0           400.0             NaN             NaN             NaN    IV  NaN  "
      ]
     },
     "execution_count": 11,
     "metadata": {},
     "output_type": "execute_result"
    }
   ],
   "source": [
    "# ▶ Example usage:\n",
    "filter_r_dose(generic='Ciprofloxacin', crcl=25, route='IV')"
   ]
  },
  {
   "cell_type": "markdown",
   "id": "81345208",
   "metadata": {},
   "source": []
  }
 ],
 "metadata": {
  "kernelspec": {
   "display_name": "venv",
   "language": "python",
   "name": "python3"
  },
  "language_info": {
   "codemirror_mode": {
    "name": "ipython",
    "version": 3
   },
   "file_extension": ".py",
   "mimetype": "text/x-python",
   "name": "python",
   "nbconvert_exporter": "python",
   "pygments_lexer": "ipython3",
   "version": "3.13.5"
  }
 },
 "nbformat": 4,
 "nbformat_minor": 5
}
